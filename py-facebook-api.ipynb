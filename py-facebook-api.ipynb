{
 "cells": [
  {
   "cell_type": "markdown",
   "metadata": {},
   "source": [
    "# Programming Project - Unit 2,2\n",
    "*by ....*\n",
    "\n",
    "**Goals**\n",
    "- Use facebook API Graph\n",
    "- Analyse and generate visualization related to **facebook informations provided in facebook API graph**\n",
    "- Storytelling using Bokeh, Python and statistics"
   ]
  },
  {
   "cell_type": "code",
   "execution_count": 1,
   "metadata": {
    "collapsed": false
   },
   "outputs": [
    {
     "name": "stdout",
     "output_type": "stream",
     "text": [
      "Collecting facebook-sdk\n",
      "  Downloading facebook-sdk-2.0.0.tar.gz\n",
      "Requirement already satisfied: requests in /home/igorbrandao/anaconda3/lib/python3.6/site-packages (from facebook-sdk)\n",
      "Building wheels for collected packages: facebook-sdk\n",
      "  Running setup.py bdist_wheel for facebook-sdk ... \u001b[?25l-\b \b\\\b \b|\b \bdone\n",
      "\u001b[?25h  Stored in directory: /home/igorbrandao/.cache/pip/wheels/74/8d/c2/632884cecf25d1a584677403dc4b149563e6336d2cd8d2834c\n",
      "Successfully built facebook-sdk\n",
      "Installing collected packages: facebook-sdk\n",
      "Successfully installed facebook-sdk-2.0.0\n",
      "Collecting statistics\n",
      "  Downloading statistics-1.0.3.5.tar.gz\n",
      "Requirement already satisfied: docutils>=0.3 in /home/igorbrandao/anaconda3/lib/python3.6/site-packages (from statistics)\n",
      "Building wheels for collected packages: statistics\n",
      "  Running setup.py bdist_wheel for statistics ... \u001b[?25l-\b \b\\\b \b|\b \bdone\n",
      "\u001b[?25h  Stored in directory: /home/igorbrandao/.cache/pip/wheels/57/4b/23/14a5c991d6718a8ca1c708a414b7686b0cd33418f210512db3\n",
      "Successfully built statistics\n",
      "Installing collected packages: statistics\n",
      "Successfully installed statistics-1.0.3.5\n"
     ]
    }
   ],
   "source": [
    "### Library necessary to run this IPython Notebook\n",
    "!pip install facebook-sdk\n",
    "!pip install statistics\n",
    "\n",
    "### API >> https://facebook-sdk.readthedocs.io/en/latest/api.html\n",
    "### Get access token >> https://developers.facebook.com/tools/explorer\n"
   ]
  },
  {
   "cell_type": "markdown",
   "metadata": {},
   "source": [
    "## class facebook.GraphAPI\n",
    "A client for the Facebook Graph API. The Graph API is made up of the objects or nodes in Facebook (e.g., people, pages, events, photos) and the connections or edges between them (e.g., friends, photo tags, and event RSVPs). This client provides access to those primitive types in a generic way.\n",
    "\n",
    "You can read more about Facebook’s Graph API [here](https://developers.facebook.com/docs/graph-api)."
   ]
  },
  {
   "cell_type": "code",
   "execution_count": 5,
   "metadata": {
    "collapsed": false
   },
   "outputs": [],
   "source": [
    "import facebook\n",
    "graph = facebook.GraphAPI(access_token='EAACEdEose0cBAPfs0egnWzEid2IvYKfQp7hjoXeCZAwIU3Snkfm7jP4rZAYZAiPIuhndrsbKfVMcZBcs9XHkZB1c9ScOMRPiqeHCAkGA7esBQazyQ9LINdz05z22DoWwIzs0ypwtFdNnrEwBONZCbColSZAlMdrUE1vn4SYQhoCNB9wxDHUtVmBTVt9k4mCu5sZD', version='2.2')"
   ]
  },
  {
   "cell_type": "code",
   "execution_count": 7,
   "metadata": {
    "collapsed": false
   },
   "outputs": [
    {
     "data": {
      "text/plain": [
       "{'data': [{'gender': 'male', 'id': '577124531', 'name': 'Ibrahim Cesar'},\n",
       "  {'gender': 'female', 'id': '10206056921416186', 'name': 'Valquíria Andrade'},\n",
       "  {'gender': 'male', 'id': '862034200484130', 'name': 'Ivan Alisson'},\n",
       "  {'gender': 'male', 'id': '1175642089132597', 'name': 'Renato Brandão'},\n",
       "  {'gender': 'male', 'id': '100000888984231', 'name': 'Luan Fonseca'},\n",
       "  {'gender': 'male',\n",
       "   'id': '809635275747651',\n",
       "   'name': 'Gustavo Freire',\n",
       "   'relationship_status': 'In a relationship'},\n",
       "  {'gender': 'male', 'id': '773541116034720', 'name': 'Murilo Bento'},\n",
       "  {'gender': 'male',\n",
       "   'id': '881717001903131',\n",
       "   'name': 'Deodato Júnior',\n",
       "   'relationship_status': 'In a relationship'},\n",
       "  {'gender': 'male', 'id': '641449889264776', 'name': 'Vinicius Dantas'},\n",
       "  {'gender': 'male', 'id': '709968795780958', 'name': 'Leandro Max'},\n",
       "  {'gender': 'male', 'id': '607827396001201', 'name': 'Inacio Medeiros'},\n",
       "  {'gender': 'female', 'id': '1120261064758991', 'name': 'Jenaina Matos Dê'},\n",
       "  {'gender': 'male', 'id': '948685731934130', 'name': 'Heráclito Cesar'},\n",
       "  {'gender': 'male', 'id': '690785524412251', 'name': 'Jussicleiton Breno'},\n",
       "  {'gender': 'female',\n",
       "   'id': '100005311453067',\n",
       "   'name': 'Suzy Oliv',\n",
       "   'relationship_status': 'Engaged'}],\n",
       " 'paging': {'cursors': {'after': 'QVFIUmE3ZAlZAJRWFSR3owbThGT0NzX1ZAFenlYbzdrbWhvT0VoZAzczUVl5UEdGeFRteHA5dl9rb0dTZAEJrOVVOVFZAUc3ZATNG90dnlDSHUzTDFTclllNWx2SW1B',\n",
       "   'before': 'QVFIUmFxSjM4XzdkaTF2ZATFwMUl4bzZAHRGFQb2ViblR0aU1zcHRyU1lNdkRhd3lRTU5qcnM2R05pVDU5cHlOZAUdvRXUZD'}},\n",
       " 'summary': {'total_count': 401}}"
      ]
     },
     "execution_count": 7,
     "metadata": {},
     "output_type": "execute_result"
    }
   ],
   "source": [
    "### Only friends who installed the Graph API Explorer (facebook >> apps >> Graph API Explorer) \n",
    "### are returned in API v2.0 and higher. \n",
    "\n",
    "### https://developers.facebook.com/docs/graph-api/reference/v2.2/user/friends\n",
    "### total_count in summary represents the total number of friends, including those who haven't installed the app\n",
    "\n",
    "friends = graph.get_object(\"me/friends?fields=id,name,gender,relationship_status\")\n",
    "#friends['summary']['total_count']\n",
    "friends"
   ]
  },
  {
   "cell_type": "code",
   "execution_count": 8,
   "metadata": {
    "collapsed": false
   },
   "outputs": [
    {
     "name": "stdout",
     "output_type": "stream",
     "text": [
      "b'Ibrahim Cesar' has id 577124531\n",
      "b'Valqu\\xc3\\xadria Andrade' has id 10206056921416186\n",
      "b'Ivan Alisson' has id 862034200484130\n",
      "b'Renato Brand\\xc3\\xa3o' has id 1175642089132597\n",
      "b'Luan Fonseca' has id 100000888984231\n",
      "b'Gustavo Freire' has id 809635275747651\n",
      "b'Murilo Bento' has id 773541116034720\n",
      "b'Deodato J\\xc3\\xbanior' has id 881717001903131\n",
      "b'Vinicius Dantas' has id 641449889264776\n",
      "b'Leandro Max' has id 709968795780958\n",
      "b'Inacio Medeiros' has id 607827396001201\n",
      "b'Jenaina Matos D\\xc3\\xaa' has id 1120261064758991\n",
      "b'Her\\xc3\\xa1clito Cesar' has id 948685731934130\n",
      "b'Jussicleiton Breno' has id 690785524412251\n",
      "b'Suzy Oliv' has id 100005311453067\n"
     ]
    },
    {
     "data": {
      "text/plain": [
       "[1038, 694, 626, 450, 2313, 808, 198, 375, 1439, 1021, 477, 156, 1227]"
      ]
     },
     "execution_count": 8,
     "metadata": {},
     "output_type": "execute_result"
    }
   ],
   "source": [
    "number_of_friends = []\n",
    "for friend in friends['data']:\n",
    "    print (\"{0} has id {1}\".format(friend['name'].encode('utf-8'), friend['id']))\n",
    "    friends_of_friends = graph.get_object(str(friend['id'])+\"/friends\")\n",
    "    if len(friends_of_friends) == 3:\n",
    "        number_of_friends.append(friends_of_friends['summary']['total_count'])\n",
    "        \n",
    "number_of_friends\n"
   ]
  },
  {
   "cell_type": "code",
   "execution_count": 12,
   "metadata": {
    "collapsed": false
   },
   "outputs": [
    {
     "name": "stdout",
     "output_type": "stream",
     "text": [
      "832.4615384615385\n",
      "694\n"
     ]
    }
   ],
   "source": [
    "import statistics as stat\n",
    "\n",
    "print (stat.mean(number_of_friends))\n",
    "print (stat.median(number_of_friends))\n",
    "# Has it mode?\n",
    "# print stat.mode(number_of_friends)"
   ]
  },
  {
   "cell_type": "code",
   "execution_count": null,
   "metadata": {
    "collapsed": true
   },
   "outputs": [],
   "source": []
  }
 ],
 "metadata": {
  "anaconda-cloud": {},
  "kernelspec": {
   "display_name": "Python 3",
   "language": "python",
   "name": "python3"
  },
  "language_info": {
   "codemirror_mode": {
    "name": "ipython",
    "version": 3
   },
   "file_extension": ".py",
   "mimetype": "text/x-python",
   "name": "python",
   "nbconvert_exporter": "python",
   "pygments_lexer": "ipython3",
   "version": "3.6.0"
  }
 },
 "nbformat": 4,
 "nbformat_minor": 1
}
